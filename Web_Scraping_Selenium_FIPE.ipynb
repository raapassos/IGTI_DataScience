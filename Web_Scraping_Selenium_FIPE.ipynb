{
 "cells": [
  {
   "cell_type": "markdown",
   "id": "coral-ribbon",
   "metadata": {},
   "source": [
    "# Web Scraping com Selenium"
   ]
  },
  {
   "cell_type": "markdown",
   "id": "extensive-grounds",
   "metadata": {},
   "source": [
    "## Cenário Proposto\n",
    "Você foi contratado por uma concessionaria de veiculos, especializada em venda de carros usados. Você precisa realizar uma previsão do valor futuro dos veiculos é calcular uma taxa de depreciação. Para esse trabalho sera necessario coletar os dados da Tabela FIPE"
   ]
  },
  {
   "cell_type": "markdown",
   "id": "tracked-customer",
   "metadata": {},
   "source": [
    "//*[@id=\"front\"]/div[1]/div[2]/ul/li[1]/a\n",
    "\n",
    "//*[@id=\"selectTabelaReferenciacarro\"]\n",
    "\n",
    "//*[@id=\"selectTabelaReferenciacarro_chosen\"]\n",
    "//*[@id=\"selectTabelaReferenciacarro_chosen\"]\n",
    "\n",
    "//*[@id=\"selectMarcacarro\"]\n",
    "//*[@id=\"selectAnoModelocarro_chosen\"]\n",
    "//*[@id=\"selectAnocarro_chosen\"]\n",
    "//*[@id=\"buttonLimparPesquisarcarro\"]/a\n",
    "//*[@id=\"buttonPesquisarcarro\"]\n",
    "//*[@id=\"resultadoConsultacarroFiltros\"]\n"
   ]
  },
  {
   "cell_type": "code",
   "execution_count": 72,
   "id": "ranking-carroll",
   "metadata": {},
   "outputs": [
    {
     "name": "stdout",
     "output_type": "stream",
     "text": [
      "Requirement already satisfied: selenium==3.141.0 in c:\\igti_data_science\\env\\coleta_dados\\lib\\site-packages (3.141.0)\n",
      "Requirement already satisfied: urllib3 in c:\\igti_data_science\\env\\coleta_dados\\lib\\site-packages (from selenium==3.141.0) (1.25.11)\n"
     ]
    }
   ],
   "source": [
    "!pip install selenium==3.141.0"
   ]
  },
  {
   "cell_type": "code",
   "execution_count": 73,
   "id": "heard-heater",
   "metadata": {},
   "outputs": [
    {
     "name": "stdout",
     "output_type": "stream",
     "text": [
      "Versão utilizada 3.141.0\n"
     ]
    }
   ],
   "source": [
    "import selenium\n",
    "\n",
    "print('Versão utilizada', selenium.__version__)"
   ]
  },
  {
   "cell_type": "code",
   "execution_count": 74,
   "id": "useful-disney",
   "metadata": {},
   "outputs": [],
   "source": [
    "#importando o web driver\n",
    "from selenium import webdriver"
   ]
  },
  {
   "cell_type": "code",
   "execution_count": 75,
   "id": "valuable-attitude",
   "metadata": {},
   "outputs": [
    {
     "ename": "SyntaxError",
     "evalue": "EOL while scanning string literal (<ipython-input-75-77c96e39adf2>, line 20)",
     "output_type": "error",
     "traceback": [
      "\u001b[1;36m  File \u001b[1;32m\"<ipython-input-75-77c96e39adf2>\"\u001b[1;36m, line \u001b[1;32m20\u001b[0m\n\u001b[1;33m    ano_veiculo = 'Audi\u001b[0m\n\u001b[1;37m                       ^\u001b[0m\n\u001b[1;31mSyntaxError\u001b[0m\u001b[1;31m:\u001b[0m EOL while scanning string literal\n"
     ]
    }
   ],
   "source": [
    "site = 'https://veiculos.fipe.org.br/'\n",
    "\n",
    "#Tipo Consulta\n",
    "x_path_tipo_consulta = '//*[@id=\"front\"]/div[1]/div[2]/ul/li[1]/a'\n",
    "\n",
    "#Caixas de Seleção\n",
    "id_marca_carro = 'selectMarcacarro_chosen'\n",
    "id_modelo_carro = 'selectAnoModelocarro_chosen'\n",
    "id_ano_carro = 'selectAnocarro_chosen'\n",
    "id_tabela_referencia = 'selectTabelaReferenciacarro_chosen'\n",
    "\n",
    "#botões\n",
    "botão_limpar = 'buttonLimparPesquisarcarro'\n",
    "botão_pesquisar = 'buttonPesquisarcarro'\n",
    "\n",
    "#resultado da pesquisa\n",
    "id_resultado_filtros = 'resultadoConsultacarroFiltros'\n",
    "\n",
    "#informações do carro\n",
    "ano_veiculo = 'Audi\n",
    "modelo_veiculo = 'A1 1.4 TFSI 122cv S-tronic 3p'\n",
    "marca_veiculo = '2014 Gasolina'\n",
    "\n",
    "#Caminho arquivo WebDriver\n",
    "WEBDRIVER = 'C:\\\\Driver Selenium\\\\msedgedriver.exe'"
   ]
  },
  {
   "cell_type": "markdown",
   "id": "acting-gambling",
   "metadata": {},
   "source": [
    "# Input de Informações\n",
    "\n",
    "'//*[@id=\"selectMarcacarro_chosen\"]/div/div/input'\n",
    "\n",
    "'//*[@id=\"selectAnoModelocarro_chosen\"]/div/div/input'\n",
    "\n",
    "'//*[@id=\"selectAnocarro_chosen\"]/div/div/input'\n",
    "\n",
    "'//*[@id=\"selectTabelaReferenciacarro_chosen\"]/div/div/input'"
   ]
  },
  {
   "cell_type": "code",
   "execution_count": 76,
   "id": "seeing-incentive",
   "metadata": {},
   "outputs": [],
   "source": [
    "def x_path_input(id_elemento):\n",
    "    return '//*[@id=\"{}\"]/div/div/input'.format(id_elemento)"
   ]
  },
  {
   "cell_type": "markdown",
   "id": "geographic-individual",
   "metadata": {},
   "source": [
    "# Tempo de resposta do navegador"
   ]
  },
  {
   "cell_type": "code",
   "execution_count": 77,
   "id": "geological-google",
   "metadata": {},
   "outputs": [],
   "source": [
    "import random\n",
    "import time\n",
    "\n",
    "def esperar(segundos=None): #Caso nenhum valor seja atribuido,será atribuido um tempo randomico entre 2 e 8\n",
    "    if not segundos:\n",
    "        segundos = random.randrange(2,8)\n",
    "    time.sleep(segundos)"
   ]
  },
  {
   "cell_type": "code",
   "execution_count": 78,
   "id": "rapid-weekly",
   "metadata": {},
   "outputs": [],
   "source": [
    "#Abrindo o navegador\n",
    "\n",
    "driver = webdriver.Edge('C:\\\\Driver Selenium\\\\msedgedriver.exe')\n",
    "driver.get(site)\n",
    "esperar(15)"
   ]
  },
  {
   "cell_type": "code",
   "execution_count": 79,
   "id": "continuous-traveler",
   "metadata": {},
   "outputs": [],
   "source": [
    "#Site Aberto\n",
    "#Clicar no tipo de consulta escolhida\n",
    "\n",
    "tipo_consulta = driver.find_element_by_xpath(x_path_tipo_consulta)\n",
    "tipo_consulta.click()"
   ]
  },
  {
   "cell_type": "markdown",
   "id": "cloudy-warrant",
   "metadata": {},
   "source": [
    "# Inserindo período de referencia"
   ]
  },
  {
   "cell_type": "code",
   "execution_count": 80,
   "id": "according-marine",
   "metadata": {},
   "outputs": [],
   "source": [
    "# metodo find_element_by_id encontra um elemento atraves do id\n",
    "pesquisa = driver.find_element_by_id(id_tabela_referencia)\n",
    "pesquisa.click() "
   ]
  },
  {
   "cell_type": "code",
   "execution_count": 81,
   "id": "arctic-cooper",
   "metadata": {},
   "outputs": [],
   "source": [
    "# retornamos o elemento de input e buscamos ele\n",
    "xpath = x_path_input(id_tabela_referencia)\n",
    "caixa = driver.find_element_by_xpath(xpath)"
   ]
  },
  {
   "cell_type": "code",
   "execution_count": 82,
   "id": "level-occupation",
   "metadata": {},
   "outputs": [],
   "source": [
    "from selenium.webdriver.common.keys import Keys\n",
    "\n",
    "#utilizamos o metodo send_key para inserir o valor desejado\n",
    "#importamos o metodo keys para sismular as ações down e return do teclado (seta para baixo e enter)\n",
    "caixa.send_keys('fevereiro/2021' + Keys.DOWN + Keys.RETURN)"
   ]
  },
  {
   "cell_type": "code",
   "execution_count": 83,
   "id": "promising-mercury",
   "metadata": {},
   "outputs": [],
   "source": [
    "def preenche_item(id_elemento, texto_pesquisa):\n",
    "    pesquisa = driver.find_element_by_id(id_elemento)\n",
    "    pesquisa.click()\n",
    "    xpath = x_path_input(id_elemento)\n",
    "    caixa = driver.find_element_by_xpath(xpath)\n",
    "    caixa.send_keys(texto_pesquisa + Keys.DOWN + Keys.RETURN)\n",
    "    pesquisa.is_selecteds = False #retirar seleção\n",
    "    caixa.is_selecteds = False # retirar seleção"
   ]
  },
  {
   "cell_type": "code",
   "execution_count": null,
   "id": "special-indian",
   "metadata": {},
   "outputs": [],
   "source": [
    "#resumindo\n",
    "esperar()\n",
    "preenche_item(id_tabela_referencia, 'fevereiro/2021')"
   ]
  },
  {
   "cell_type": "code",
   "execution_count": null,
   "id": "metric-twins",
   "metadata": {},
   "outputs": [],
   "source": [
    "#preencher marca\n",
    "esperar()\n",
    "preenche_item(id_marca_carro, marca_veiculo)"
   ]
  },
  {
   "cell_type": "code",
   "execution_count": null,
   "id": "earlier-benefit",
   "metadata": {},
   "outputs": [],
   "source": [
    "#preencher modelo\n",
    "esperar()\n",
    "preenche_item(id_modelo_carro, modelo_veiculo)"
   ]
  },
  {
   "cell_type": "code",
   "execution_count": null,
   "id": "useful-center",
   "metadata": {},
   "outputs": [],
   "source": [
    "#preencher ano\n",
    "esperar()\n",
    "preenche_item(id_ano_carro, ano_veiculo)"
   ]
  },
  {
   "cell_type": "code",
   "execution_count": 85,
   "id": "integral-peeing",
   "metadata": {},
   "outputs": [],
   "source": [
    "#clicando em pesquisar\n",
    "esperar()\n",
    "buscar = driver.find_element_by_id(botão_pesquisar)\n",
    "buscar.click()"
   ]
  },
  {
   "cell_type": "code",
   "execution_count": 89,
   "id": "greek-hollywood",
   "metadata": {},
   "outputs": [
    {
     "name": "stdout",
     "output_type": "stream",
     "text": [
      "Requirement already satisfied: beautifulsoup4 in c:\\igti_data_science\\env\\coleta_dados\\lib\\site-packages (4.9.3)\n",
      "Requirement already satisfied: soupsieve>1.2 in c:\\igti_data_science\\env\\coleta_dados\\lib\\site-packages (from beautifulsoup4) (2.2.1)\n"
     ]
    }
   ],
   "source": [
    "#Instalando BeautifulSoup para analisar codigo HTML gerado pela tabela\n",
    "\n",
    "!pip install beautifulsoup4"
   ]
  },
  {
   "cell_type": "code",
   "execution_count": 91,
   "id": "attractive-feature",
   "metadata": {},
   "outputs": [
    {
     "data": {
      "text/plain": [
       "<tbody>\n",
       "<tr>\n",
       "<td class=\"noborder\"><p>Mês de referência:</p></td>\n",
       "<td><p>fevereiro de 2021 </p></td>\n",
       "</tr>\n",
       "<tr>\n",
       "<td class=\"noborder\"><p>Código Fipe:</p></td>\n",
       "<td><p>008153-1</p></td>\n",
       "</tr>\n",
       "<tr>\n",
       "<td class=\"noborder\"><p>Marca:</p></td>\n",
       "<td><p>Audi</p></td>\n",
       "</tr>\n",
       "<tr>\n",
       "<td class=\"noborder\"><p>Modelo:</p></td>\n",
       "<td><p>A1 1.4 TFSI 122cv S-tronic 3p</p></td>\n",
       "</tr>\n",
       "<tr>\n",
       "<td class=\"noborder\"><p>Ano Modelo:</p></td>\n",
       "<td><p>2014 Gasolina</p></td>\n",
       "</tr>\n",
       "<tr>\n",
       "<td class=\"noborder\"><p>Autenticação</p></td>\n",
       "<td><p>1hbxx3knyxrl</p></td>\n",
       "</tr>\n",
       "<tr>\n",
       "<td class=\"noborder\"><p>Data da consulta</p></td>\n",
       "<td><p>domingo, 4 de abril de 2021 19:22</p></td>\n",
       "</tr>\n",
       "<tr class=\"last\">\n",
       "<td class=\"noborder\"><p>Preço Médio</p></td>\n",
       "<td><p>R$ 58.595,00</p></td>\n",
       "</tr>\n",
       "</tbody>"
      ]
     },
     "execution_count": 91,
     "metadata": {},
     "output_type": "execute_result"
    }
   ],
   "source": [
    "from bs4 import BeautifulSoup\n",
    "\n",
    "table = driver.find_element_by_id(id_resultado_filtros)\n",
    "html = table.get_attribute('innerHTML')\n",
    "parser = BeautifulSoup(html, \"html.parser\")\n",
    "table = parser.select_one('tbody')\n",
    "table"
   ]
  },
  {
   "cell_type": "code",
   "execution_count": 92,
   "id": "raising-stretch",
   "metadata": {},
   "outputs": [],
   "source": [
    "#Caracteres inicial de busca: '<td><p>'\n",
    "\n",
    "#Caracteres finais de buca: '</p></td>'\n",
    "\n",
    "#Por fim solicitamos qualquer elemento entre esses dois grupos de caracteres: '.*?'\n",
    "\n",
    "\n",
    "import re\n",
    "\n",
    "regex_dados = re.compile('(<td><p>)(.*?)(</p></td>)')"
   ]
  },
  {
   "cell_type": "code",
   "execution_count": 93,
   "id": "upper-threshold",
   "metadata": {},
   "outputs": [
    {
     "data": {
      "text/plain": [
       "[('<td><p>', 'fevereiro de 2021 ', '</p></td>'),\n",
       " ('<td><p>', '008153-1', '</p></td>'),\n",
       " ('<td><p>', 'Audi', '</p></td>'),\n",
       " ('<td><p>', 'A1 1.4 TFSI 122cv S-tronic 3p', '</p></td>'),\n",
       " ('<td><p>', '2014 Gasolina', '</p></td>'),\n",
       " ('<td><p>', '1hbxx3knyxrl', '</p></td>'),\n",
       " ('<td><p>', 'domingo, 4 de abril de 2021 19:22', '</p></td>'),\n",
       " ('<td><p>', 'R$ 58.595,00', '</p></td>')]"
      ]
     },
     "execution_count": 93,
     "metadata": {},
     "output_type": "execute_result"
    }
   ],
   "source": [
    "dados = regex_dados.findall(str(table))\n",
    "dados"
   ]
  },
  {
   "cell_type": "code",
   "execution_count": 94,
   "id": "seeing-religious",
   "metadata": {},
   "outputs": [
    {
     "data": {
      "text/plain": [
       "['fevereiro de 2021 ',\n",
       " '008153-1',\n",
       " 'Audi',\n",
       " 'A1 1.4 TFSI 122cv S-tronic 3p',\n",
       " '2014 Gasolina',\n",
       " '1hbxx3knyxrl',\n",
       " 'domingo, 4 de abril de 2021 19:22',\n",
       " 'R$ 58.595,00']"
      ]
     },
     "execution_count": 94,
     "metadata": {},
     "output_type": "execute_result"
    }
   ],
   "source": [
    "#tornando mais legivel\n",
    "for i, dado in enumerate(dados):\n",
    "    dados[i] = dado[1]\n",
    "dados"
   ]
  },
  {
   "cell_type": "code",
   "execution_count": 95,
   "id": "electronic-display",
   "metadata": {},
   "outputs": [],
   "source": [
    "#criando funcao lista dado\n",
    "def lista_dado(dados):\n",
    "    for i, dado in enumerate(dados):\n",
    "        dados[i] = dado[1]\n",
    "    return dados"
   ]
  },
  {
   "cell_type": "code",
   "execution_count": 96,
   "id": "educated-adrian",
   "metadata": {},
   "outputs": [
    {
     "data": {
      "text/plain": [
       "['Mês de referência:',\n",
       " 'Código Fipe:',\n",
       " 'Marca:',\n",
       " 'Modelo:',\n",
       " 'Ano Modelo:',\n",
       " 'Autenticação',\n",
       " 'Data da consulta',\n",
       " 'Preço Médio']"
      ]
     },
     "execution_count": 96,
     "metadata": {},
     "output_type": "execute_result"
    }
   ],
   "source": [
    "#bucando titulo\n",
    "regex_titulo= re.compile('(<td class=\"noborder\"><p>)(.*?)(</p>)')\n",
    "titulo = regex_titulo.findall(str(table))\n",
    "titulo = lista_dado(titulo)\n",
    "titulo"
   ]
  },
  {
   "cell_type": "code",
   "execution_count": null,
   "id": "textile-violin",
   "metadata": {},
   "outputs": [],
   "source": [
    "# limpar pesquisa e fechar navegador\n",
    "esperar()\n",
    "buscar = driver.find_element_by_id(id_botao_limpar)\n",
    "buscar.click()"
   ]
  },
  {
   "cell_type": "markdown",
   "id": "moderate-center",
   "metadata": {},
   "source": [
    "# Instalar Google Chrome"
   ]
  },
  {
   "cell_type": "markdown",
   "id": "included-founder",
   "metadata": {},
   "source": [
    "Notei que o Microsoft Edge não é muito bom para a seleção dos dados nesse site, acredito que baixando o chrome o desempenho será melhor e sem erros. Assim será possível extrair informação de diversos períodos de referência diferentes e fazer análises.   "
   ]
  },
  {
   "cell_type": "code",
   "execution_count": null,
   "id": "foreign-intake",
   "metadata": {},
   "outputs": [],
   "source": []
  }
 ],
 "metadata": {
  "kernelspec": {
   "display_name": "coleta_dados",
   "language": "python",
   "name": "coleta_dados"
  },
  "language_info": {
   "codemirror_mode": {
    "name": "ipython",
    "version": 3
   },
   "file_extension": ".py",
   "mimetype": "text/x-python",
   "name": "python",
   "nbconvert_exporter": "python",
   "pygments_lexer": "ipython3",
   "version": "3.9.0"
  }
 },
 "nbformat": 4,
 "nbformat_minor": 5
}
